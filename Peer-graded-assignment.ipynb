{
 "cells": [
  {
   "cell_type": "markdown",
   "id": "36f4324d",
   "metadata": {},
   "source": [
    "# Week 4 peer graded assignment"
   ]
  },
  {
   "cell_type": "markdown",
   "id": "cf83b13e",
   "metadata": {},
   "source": [
    "**Ninaad Majumdar**\n",
    "\n",
    "Currently a student completing M.Tech. CSE"
   ]
  },
  {
   "cell_type": "markdown",
   "id": "804b055b",
   "metadata": {},
   "source": [
    "*Data Science knowledge can help me get a better job*"
   ]
  },
  {
   "cell_type": "markdown",
   "id": "10224e14",
   "metadata": {},
   "source": [
    "### This is a simple program for addition of two numbers"
   ]
  },
  {
   "cell_type": "code",
   "execution_count": 1,
   "id": "b8855feb",
   "metadata": {},
   "outputs": [
    {
     "name": "stdout",
     "output_type": "stream",
     "text": [
      "2\n"
     ]
    }
   ],
   "source": [
    "a = 1+1\n",
    "print(a)"
   ]
  },
  {
   "cell_type": "markdown",
   "id": "93048f87",
   "metadata": {},
   "source": [
    "`a = 1+1`\n",
    "\n",
    "1. numbered\n",
    "2. list\n",
    "\n",
    "~~Strikethrough~~"
   ]
  },
  {
   "cell_type": "code",
   "execution_count": null,
   "id": "5ac8497e",
   "metadata": {},
   "outputs": [],
   "source": []
  }
 ],
 "metadata": {
  "kernelspec": {
   "display_name": "Python 3 (ipykernel)",
   "language": "python",
   "name": "python3"
  },
  "language_info": {
   "codemirror_mode": {
    "name": "ipython",
    "version": 3
   },
   "file_extension": ".py",
   "mimetype": "text/x-python",
   "name": "python",
   "nbconvert_exporter": "python",
   "pygments_lexer": "ipython3",
   "version": "3.8.8"
  }
 },
 "nbformat": 4,
 "nbformat_minor": 5
}
